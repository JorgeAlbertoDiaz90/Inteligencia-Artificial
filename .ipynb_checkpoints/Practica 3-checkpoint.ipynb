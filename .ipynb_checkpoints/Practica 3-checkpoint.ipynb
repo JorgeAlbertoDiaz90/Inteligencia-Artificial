{
 "cells": [
  {
   "cell_type": "code",
   "execution_count": 7,
   "id": "a1a91f83",
   "metadata": {},
   "outputs": [],
   "source": [
    "import cv2 as cv"
   ]
  },
  {
   "cell_type": "code",
   "execution_count": 8,
   "id": "6a02fb81",
   "metadata": {},
   "outputs": [
    {
     "ename": "AttributeError",
     "evalue": "module 'cv2' has no attribute 'read'",
     "output_type": "error",
     "traceback": [
      "\u001b[1;31m---------------------------------------------------------------------------\u001b[0m",
      "\u001b[1;31mAttributeError\u001b[0m                            Traceback (most recent call last)",
      "Cell \u001b[1;32mIn[8], line 1\u001b[0m\n\u001b[1;32m----> 1\u001b[0m img \u001b[38;5;241m=\u001b[39m cv\u001b[38;5;241m.\u001b[39mread(\u001b[38;5;124m'\u001b[39m\u001b[38;5;124mimagen1.jpg\u001b[39m\u001b[38;5;124m'\u001b[39m,\u001b[38;5;241m1\u001b[39m)\n\u001b[0;32m      2\u001b[0m w, h\u001b[38;5;241m=\u001b[39mimg\u001b[38;5;241m.\u001b[39mshape[:\u001b[38;5;241m2\u001b[39m]\n\u001b[0;32m      3\u001b[0m img2 \u001b[38;5;241m=\u001b[39m np\u001b[38;5;241m.\u001b[39mzeros((w, h), dtype\u001b[38;5;241m=\u001b[39mnp\u001b[38;5;241m.\u001b[39muint8)\n",
      "\u001b[1;31mAttributeError\u001b[0m: module 'cv2' has no attribute 'read'"
     ]
    }
   ],
   "source": [
    "img = cv.read('imagen2.png',1)\n",
    "w, h=img.shape[:2]\n",
    "img2 = np.zeros((w, h), dtype=np.uint8)\n",
    "b,g,r=cv.split(img)\n",
    "cv.imshow('b', b)\n",
    "cv.imshow('g', g)\n",
    "cv.imshow('r', r)\n",
    "b1 = cv.merge([b, r, g])\n",
    "g1 = cv.merge([r, g, b])\n",
    "r1 = cv.merge([g, b, r])\n",
    "cv.imshow('b1', b1)\n",
    "cv.imshow('g1', g1)\n",
    "cv.imshow('r1', r1)\n",
    "cv.imshow('marco2', img2)\n",
    "cv.waitKey(0)\n",
    "cv.destroyAllWindows()"
   ]
  },
  {
   "cell_type": "code",
   "execution_count": 9,
   "id": "75bd970e",
   "metadata": {},
   "outputs": [
    {
     "ename": "NameError",
     "evalue": "name 'imread' is not defined",
     "output_type": "error",
     "traceback": [
      "\u001b[1;31m---------------------------------------------------------------------------\u001b[0m",
      "\u001b[1;31mNameError\u001b[0m                                 Traceback (most recent call last)",
      "Cell \u001b[1;32mIn[9], line 1\u001b[0m\n\u001b[1;32m----> 1\u001b[0m img \u001b[38;5;241m=\u001b[39m imread(\u001b[38;5;124m'\u001b[39m\u001b[38;5;124mimagen1.jpg\u001b[39m\u001b[38;5;124m'\u001b[39m,\u001b[38;5;241m1\u001b[39m)\n\u001b[0;32m      2\u001b[0m img2 \u001b[38;5;241m=\u001b[39m cv\u001b[38;5;241m.\u001b[39mcvtColor(img, cv\u001b[38;5;241m.\u001b[39mCOLOR_BGR2GRAY)\n\u001b[0;32m      3\u001b[0m img2 \u001b[38;5;241m=\u001b[39m cv\u001b[38;5;241m.\u001b[39mcvtColor(img, cv\u001b[38;5;241m.\u001b[39mCOLOR_BGR2HSV)\n",
      "\u001b[1;31mNameError\u001b[0m: name 'imread' is not defined"
     ]
    }
   ],
   "source": [
    "img = imread('imagen2.png',1)\n",
    "img2 = cv.cvtColor(img, cv.COLOR_BGR2GRAY)\n",
    "img2 = cv.cvtColor(img, cv.COLOR_BGR2HSV)\n",
    "cv.imshow('img', img)\n",
    "cv.imshow('img2', img2)\n",
    "cv.imshow('img3', img3)\n",
    "\n",
    "cv.waitKey(0)\n",
    "cv.destroyAllWindows()"
   ]
  },
  {
   "cell_type": "code",
   "execution_count": null,
   "id": "c682e595",
   "metadata": {},
   "outputs": [],
   "source": []
  }
 ],
 "metadata": {
  "kernelspec": {
   "display_name": "Python 3 (ipykernel)",
   "language": "python",
   "name": "python3"
  },
  "language_info": {
   "codemirror_mode": {
    "name": "ipython",
    "version": 3
   },
   "file_extension": ".py",
   "mimetype": "text/x-python",
   "name": "python",
   "nbconvert_exporter": "python",
   "pygments_lexer": "ipython3",
   "version": "3.11.5"
  }
 },
 "nbformat": 4,
 "nbformat_minor": 5
}
