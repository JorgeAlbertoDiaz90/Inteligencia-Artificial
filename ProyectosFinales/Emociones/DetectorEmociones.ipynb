{
 "cells": [
  {
   "cell_type": "markdown",
   "id": "828a3c0e",
   "metadata": {},
   "source": [
    "Este fragmento de código utiliza OpenCV (cv2) para cargar un clasificador en cascada para la detección de rostros. El clasificador en cascada es un archivo XML que contiene información sobre cómo detectar objetos específicos, como rostros, en una imagen. En este caso, se carga un clasificador llamado 'haarcascade_frontalface_alt.xml', que está entrenado específicamente para detectar rostros frontales en imágenes."
   ]
  },
  {
   "cell_type": "code",
   "execution_count": 1,
   "id": "93ed2b0f-9a00-459f-adb4-dd263bd5ff0a",
   "metadata": {},
   "outputs": [],
   "source": [
    "import numpy as np \n",
    "import cv2 as cv\n",
    "rostro = cv.CascadeClassifier('haarcascade_frontalface_alt.xml')"
   ]
  },
  {
   "cell_type": "markdown",
   "id": "53c9fb5d-53c3-460c-aa86-12b3a2870312",
   "metadata": {},
   "source": [
    "CAPTURADOR CON CAMARA"
   ]
  },
  {
   "cell_type": "code",
   "execution_count": 2,
   "id": "1e390d9a-6492-4484-9999-5e3c266132bf",
   "metadata": {},
   "outputs": [],
   "source": [
    "cap = cv.VideoCapture(0)\n",
    "i = 0 \n",
    "while True:\n",
    "    ret, frame = cap.read()\n",
    "    gray = cv.cvtColor(frame, cv.COLOR_BGR2GRAY)\n",
    "    rostros = rostro.detectMultiScale(gray, 1.3, 5)\n",
    "    for(x, y, w, h) in rostros:\n",
    "        #frame = cv.rectangle(frame, (x,y), (x+w, y+h), (0, 255, 0), 2)\n",
    "        frame2 = frame[y:y+h, x:x+w]\n",
    "        #cv.imshow('rostros2', frame2)\n",
    "        frame2 = cv.resize(frame2, (100,100), interpolation = cv.INTER_AREA)\n",
    "        cv.imwrite('C:\\\\Users\\\\jorge\\\\OneDrive\\\\Escritorio\\\\IA\\\\Emociones3\\\\sorpresa\\\\'+str(i)+'.png', frame2)\n",
    "        \n",
    "    cv.imshow('rostros', frame)\n",
    "    i=i+1\n",
    "    k = cv.waitKey(1)\n",
    "    if k == 27:\n",
    "        break\n",
    "cap.release()\n",
    "cv.destroyAllWindows()"
   ]
  },
  {
   "cell_type": "markdown",
   "id": "01427147-cd0e-4a2a-b1d5-ba2c03224c4e",
   "metadata": {},
   "source": [
    "IDENTIFICACION DE PERSONAS"
   ]
  },
  {
   "cell_type": "markdown",
   "id": "16390833",
   "metadata": {},
   "source": [
    "\n",
    "Este script utiliza OpenCV para realizar la detección de rostros en tiempo real utilizando la cámara de un dispositivo. Se carga un reconocedor de rostros basado en el algoritmo de reconocimiento de patrones locales de histogramas (LBPH) y se lee un modelo previamente entrenado (faceRecognizer). El modelo debe estar entrenado para reconocer las caras que se encuentran en un directorio específico (dataSet), y se asume que el nombre de cada carpeta dentro de dataSet corresponde al nombre de la persona cuya cara se ha entrenado para reconocer.\n",
    "\n",
    "Luego, se capturan los fotogramas de la cámara en un bucle mientras la cámara está activa. Para cada fotograma, se convierte a escala de grises y se detectan los rostros utilizando el clasificador en cascada (rostro). Para cada región de interés (ROI) que contiene un rostro detectado, se redimensiona a un tamaño específico y se utiliza para predecir la etiqueta del rostro utilizando el reconocedor de rostros previamente entrenado.\n",
    "\n",
    "La etiqueta predicha se muestra en el fotograma junto con un rectángulo alrededor del rostro detectado. Si la confianza de la predicción es menor que 100, se muestra el nombre correspondiente al rostro en la etiqueta. Si la confianza es mayor, se considera desconocido y se muestra \"Desconocido\" en la etiqueta.\n",
    "\n",
    "El bucle continúa hasta que se presiona la tecla 'Esc' (código ASCII 27), momento en el cual se liberan los recursos de la cámara y se cierran todas las ventanas."
   ]
  },
  {
   "cell_type": "code",
   "execution_count": 3,
   "id": "b6159514-b54b-4d10-b0bd-87ebcb440164",
   "metadata": {},
   "outputs": [
    {
     "ename": "error",
     "evalue": "OpenCV(4.9.0) D:\\a\\opencv-python\\opencv-python\\opencv_contrib\\modules\\face\\src\\facerec.cpp:61: error: (-2:Unspecified error) File can't be opened for reading! in function 'cv::face::FaceRecognizer::read'\n",
     "output_type": "error",
     "traceback": [
      "\u001b[1;31m---------------------------------------------------------------------------\u001b[0m",
      "\u001b[1;31merror\u001b[0m                                     Traceback (most recent call last)",
      "Cell \u001b[1;32mIn[3], line 5\u001b[0m\n\u001b[0;32m      2\u001b[0m \u001b[38;5;28;01mimport\u001b[39;00m \u001b[38;5;21;01mos\u001b[39;00m \n\u001b[0;32m      4\u001b[0m faceRecognizer \u001b[38;5;241m=\u001b[39m cv\u001b[38;5;241m.\u001b[39mface\u001b[38;5;241m.\u001b[39mLBPHFaceRecognizer_create()\n\u001b[1;32m----> 5\u001b[0m faceRecognizer\u001b[38;5;241m.\u001b[39mread(\u001b[38;5;124m'\u001b[39m\u001b[38;5;124mC:\u001b[39m\u001b[38;5;130;01m\\\\\u001b[39;00m\u001b[38;5;124mUsers\u001b[39m\u001b[38;5;130;01m\\\\\u001b[39;00m\u001b[38;5;124mjorge\u001b[39m\u001b[38;5;130;01m\\\\\u001b[39;00m\u001b[38;5;124mOneDrive\u001b[39m\u001b[38;5;130;01m\\\\\u001b[39;00m\u001b[38;5;124mEscritorio\u001b[39m\u001b[38;5;130;01m\\\\\u001b[39;00m\u001b[38;5;124mIA1\u001b[39m\u001b[38;5;130;01m\\\\\u001b[39;00m\u001b[38;5;124mLBPHPersonesFix2.xml\u001b[39m\u001b[38;5;124m'\u001b[39m)\n\u001b[0;32m      6\u001b[0m dataSet \u001b[38;5;241m=\u001b[39m \u001b[38;5;124m'\u001b[39m\u001b[38;5;124mC:\u001b[39m\u001b[38;5;130;01m\\\\\u001b[39;00m\u001b[38;5;124mUsers\u001b[39m\u001b[38;5;130;01m\\\\\u001b[39;00m\u001b[38;5;124mjorge\u001b[39m\u001b[38;5;130;01m\\\\\u001b[39;00m\u001b[38;5;124mOneDrive\u001b[39m\u001b[38;5;130;01m\\\\\u001b[39;00m\u001b[38;5;124mEscritorio\u001b[39m\u001b[38;5;130;01m\\\\\u001b[39;00m\u001b[38;5;124mIA1\u001b[39m\u001b[38;5;130;01m\\\\\u001b[39;00m\u001b[38;5;124mPersones\u001b[39m\u001b[38;5;124m'\u001b[39m\n\u001b[0;32m      7\u001b[0m faces  \u001b[38;5;241m=\u001b[39m os\u001b[38;5;241m.\u001b[39mlistdir(dataSet)\n",
      "\u001b[1;31merror\u001b[0m: OpenCV(4.9.0) D:\\a\\opencv-python\\opencv-python\\opencv_contrib\\modules\\face\\src\\facerec.cpp:61: error: (-2:Unspecified error) File can't be opened for reading! in function 'cv::face::FaceRecognizer::read'\n"
     ]
    }
   ],
   "source": [
    "import cv2 as cv\n",
    "import os \n",
    "\n",
    "faceRecognizer = cv.face.LBPHFaceRecognizer_create()\n",
    "faceRecognizer.read('C:\\\\Users\\\\jorge\\\\OneDrive\\\\Escritorio\\\\IA1\\\\LBPHPersonesFix2.xml')\n",
    "dataSet = 'C:\\\\Users\\\\jorge\\\\OneDrive\\\\Escritorio\\\\IA1\\\\Persones'\n",
    "faces  = os.listdir(dataSet)\n",
    "cap = cv.VideoCapture(0)\n",
    "rostro = cv.CascadeClassifier('C:\\\\Users\\\\jorge\\\\OneDrive\\\\Escritorio\\\\IA1\\\\TrabajoClase\\\\haarcascade_frontalface_alt.xml')\n",
    "while True:\n",
    "    ret, frame = cap.read()\n",
    "    if ret == False: break\n",
    "    gray = cv.cvtColor(frame, cv.COLOR_BGR2GRAY)\n",
    "    cpGray = gray.copy()\n",
    "    rostros = rostro.detectMultiScale(gray, 1.3, 3)\n",
    "    for(x, y, w, h) in rostros:\n",
    "        frame2 = cpGray[y:y+h, x:x+w]\n",
    "        frame2 = cv.resize(frame2,  (100,100), interpolation=cv.INTER_CUBIC)\n",
    "        result = faceRecognizer.predict(frame2)\n",
    "        cv.putText(frame, '{}'.format(result), (x,y-20), 1,3.3, (255,255,0), 1, cv.LINE_AA)\n",
    "        if result[1] < 100:\n",
    "            cv.putText(frame,'{}'.format(faces[result[0]]),(x,y-25),2,1.1,(0,255,0),1,cv.LINE_AA)\n",
    "            cv.rectangle(frame, (x,y),(x+w,y+h),(0,255,0),2)\n",
    "        else:\n",
    "            cv.putText(frame,'Desconocido',(x,y-20),2,0.8,(0,0,255),1,cv.LINE_AA)\n",
    "            cv.rectangle(frame, (x,y),(x+w,y+h),(0,0,255),2) \n",
    "    cv.imshow('frame', frame)\n",
    "    k = cv.waitKey(1)\n",
    "    if k == 27:\n",
    "        break\n",
    "cap.release()\n",
    "cv.destroyAllWindows()"
   ]
  },
  {
   "cell_type": "code",
   "execution_count": null,
   "id": "f8ce1f97-65f6-47a7-ac0b-76432cd4c7f6",
   "metadata": {},
   "outputs": [],
   "source": [
    "ESTADOS DE ANIMO"
   ]
  },
  {
   "cell_type": "markdown",
   "id": "1516e4e6",
   "metadata": {},
   "source": [
    "Este script utiliza OpenCV para realizar la detección de rostros en tiempo real utilizando la cámara de un dispositivo. Después de cargar un clasificador en cascada para la detección de rostros (rostro), el script inicializa un reconocedor de rostros basado en el algoritmo de reconocimiento de patrones locales de histogramas (LBPH) (faceRecognizer) y carga un modelo entrenado previamente.\n",
    "\n",
    "Luego, se capturan los fotogramas de la cámara en un bucle mientras la cámara está activa. Para cada fotograma, se convierte a escala de grises y se detectan los rostros utilizando el clasificador en cascada. Para cada región de interés (ROI) que contiene un rostro detectado, se redimensiona a un tamaño específico y se utiliza para predecir la etiqueta del rostro utilizando el reconocedor de rostros previamente entrenado.\n",
    "\n",
    "La etiqueta predicha se muestra en el fotograma junto con un rectángulo alrededor del rostro detectado. Si la confianza de la predicción (result[1]) es menor que 100, se muestra el nombre correspondiente al rostro en la etiqueta. Si la confianza es mayor, se considera desconocido y se muestra \"Desconocido\" en la etiqueta.\n",
    "\n",
    "El bucle continúa hasta que se presiona la tecla 'Esc' (código ASCII 27), momento en el cual se liberan los recursos de la cámara y se cierran todas las ventanas."
   ]
  },
  {
   "cell_type": "code",
   "execution_count": 8,
   "id": "d699b172-7bce-447f-ac46-fc69e8eacee4",
   "metadata": {},
   "outputs": [],
   "source": [
    "import cv2 as cv\n",
    "import os \n",
    "\n",
    "faceRecognizer = cv.face.LBPHFaceRecognizer_create()\n",
    "faceRecognizer.read('C:\\\\Users\\\\jorge\\\\OneDrive\\\\Escritorio\\\\IA1\\\\InteligenciaArtificial\\\\XML\\\\EmocionesLBPHZwei.xml')\n",
    "dataSet = 'C:\\\\Users\\\\jorge\\\\OneDrive\\\\Escritorio\\\\IA1\\\\InteligenciaArtificial\\\\Imagenes\\\\Emociones'\n",
    "faces  = os.listdir(dataSet)\n",
    "cap = cv.VideoCapture(0)\n",
    "rostro = cv.CascadeClassifier('C:\\\\Users\\\\jorge\\\\OneDrive\\\\Escritorio\\\\IA1\\\\InteligenciaArtificial\\\\TrabajoClase\\\\haarcascade_frontalface_alt.xml')\n",
    "while True:\n",
    "    ret, frame = cap.read()\n",
    "    if ret == False: break\n",
    "    gray = cv.cvtColor(frame, cv.COLOR_BGR2GRAY)\n",
    "    #cpGray = gray.copy()\n",
    "    rostros = rostro.detectMultiScale(gray, 1.3, 3)\n",
    "    for(x, y, w, h) in rostros:\n",
    "        frame2 = gray[y:y+h, x:x+w]\n",
    "        frame2 = cv.resize(frame2,  (100,100), interpolation=cv.INTER_CUBIC)\n",
    "        result = faceRecognizer.predict(frame2)\n",
    "        cv.putText(frame, '{}'.format(result), (x,y-20), 1,3.3, (255,255,0), 1, cv.LINE_AA)\n",
    "        if result[1] < 100:\n",
    "            cv.putText(frame,'{}'.format(faces[result[0]]),(x,y-25),2,1.1,(0,255,0),1,cv.LINE_AA)\n",
    "            cv.rectangle(frame, (x,y),(x+w,y+h),(0,255,0),2)\n",
    "        else:\n",
    "            cv.putText(frame,'Desconocido',(x,y-20),2,0.8,(0,0,255),1,cv.LINE_AA)\n",
    "            cv.rectangle(frame, (x,y),(x+w,y+h),(0,0,255),2) \n",
    "    cv.imshow('frame', frame)\n",
    "    k = cv.waitKey(1)\n",
    "    if k == 27:\n",
    "        break\n",
    "cap.release()\n",
    "cv.destroyAllWindows()"
   ]
  },
  {
   "cell_type": "markdown",
   "id": "dd7ebcbf-8c45-4756-a8cb-3eb08a4924a9",
   "metadata": {},
   "source": [
    "GENERADOR DE XML"
   ]
  },
  {
   "cell_type": "code",
   "execution_count": null,
   "id": "82988eea-3480-4b82-bac9-4f4d272ad340",
   "metadata": {},
   "outputs": [],
   "source": [
    "import cv2 as cv\n",
    "import os \n",
    "\n",
    "faceRecognizer = cv.face.EigenFaceRecognizer_create()\n",
    "faceRecognizer.read('C:\\\\Users\\\\jorge\\\\OneDrive\\\\Escritorio\\\\UNIVERSIDAD\\\\9no-Semestre\\\\IA\\\\Inteligencia-Artificial\\\\XML\\\\jorgeEigenface.xml')\n",
    "\n",
    "cap = cv.VideoCapture(0)\n",
    "rostro = cv.CascadeClassifier('haarcascade_frontalface_alt.xml')\n",
    "while True:\n",
    "    ret, frame = cap.read()\n",
    "    if ret == False: break\n",
    "    gray = cv.cvtColor(frame, cv.COLOR_BGR2GRAY)\n",
    "    cpGray = gray.copy()\n",
    "    rostros = rostro.detectMultiScale(gray, 1.3, 3)\n",
    "    for(x, y, w, h) in rostros:\n",
    "        frame2 = cpGray[y:y+h, x:x+w]\n",
    "        frame2 = cv.resize(frame2,  (100,100), interpolation=cv.INTER_CUBIC)\n",
    "        result = faceRecognizer.predict(frame2)\n",
    "        #cv.putText(frame, '{}'.format(result), (x,y-20), 1,3.3, (255,255,0), 1, cv.LINE_AA)\n",
    "        if result[1] > 2800:\n",
    "            cv.putText(frame,'{}'.format(faces[result[0]]),(x,y-25),2,1.1,(0,255,0),1,cv.LINE_AA)\n",
    "            cv.rectangle(frame, (x,y),(x+w,y+h),(0,255,0),2)\n",
    "        else:\n",
    "            cv.putText(frame,'Desconocido',(x,y-20),2,0.8,(0,0,255),1,cv.LINE_AA)\n",
    "            cv.rectangle(frame, (x,y),(x+w,y+h),(0,0,255),2)\n",
    "    cv.imshow('frame', frame)\n",
    "    k = cv.waitKey(1)\n",
    "    if k == 27:\n",
    "        break\n",
    "cap.release()\n",
    "cv.destroyAllWindows()\n"
   ]
  },
  {
   "cell_type": "code",
   "execution_count": null,
   "id": "91ee5913-b151-41af-ac68-594aaab6fb7d",
   "metadata": {},
   "outputs": [],
   "source": []
  }
 ],
 "metadata": {
  "kernelspec": {
   "display_name": "Python 3 (ipykernel)",
   "language": "python",
   "name": "python3"
  },
  "language_info": {
   "codemirror_mode": {
    "name": "ipython",
    "version": 3
   },
   "file_extension": ".py",
   "mimetype": "text/x-python",
   "name": "python",
   "nbconvert_exporter": "python",
   "pygments_lexer": "ipython3",
   "version": "3.11.5"
  }
 },
 "nbformat": 4,
 "nbformat_minor": 5
}
