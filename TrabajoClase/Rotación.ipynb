{
 "cells": [
  {
   "cell_type": "code",
   "execution_count": null,
   "id": "51f1267a-0e37-4601-ac70-28f2dfe0af51",
   "metadata": {},
   "outputs": [],
   "source": [
    "import cv2 as cv\n",
    "import os"
   ]
  },
  {
   "cell_type": "code",
   "execution_count": null,
   "id": "fbd1563b-2f4b-4793-b730-52c15a05815d",
   "metadata": {},
   "outputs": [],
   "source": [
    "def rota(img, 1):\n",
    "    h, w = img.shape[ :2]\n",
    "    mw = "
   ]
  }
 ],
 "metadata": {
  "kernelspec": {
   "display_name": "Python 3 (ipykernel)",
   "language": "python",
   "name": "python3"
  },
  "language_info": {
   "codemirror_mode": {
    "name": "ipython",
    "version": 3
   },
   "file_extension": ".py",
   "mimetype": "text/x-python",
   "name": "python",
   "nbconvert_exporter": "python",
   "pygments_lexer": "ipython3",
   "version": "3.11.5"
  }
 },
 "nbformat": 4,
 "nbformat_minor": 5
}
