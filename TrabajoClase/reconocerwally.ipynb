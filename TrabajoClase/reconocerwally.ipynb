{
 "cells": [
  {
   "cell_type": "code",
   "execution_count": 29,
   "id": "0d50a09e-0f9a-4d06-9336-2905d187da13",
   "metadata": {},
   "outputs": [],
   "source": [
    "import numpy as np\n",
    "import cv2 as cv\n",
    "\n",
    "# Cargar el clasificador entrenado\n",
    "#rostro = cv.CascadeClassifier('C:\\\\Users\\\\jorge\\\\OneDrive\\\\Escritorio\\\\IA1\\\\InteligenciaArtificial\\\\Imagenes\\\\wally\\\\classifier\\\\cascade1.xml')\n",
    "face_cascade = cv.CascadeClassifier('C:\\\\Users\\\\jorge\\\\OneDrive\\\\Escritorio\\\\IA1\\\\InteligenciaArtificial\\\\Imagenes\\\\wally\\\\classifier\\\\cascade1.xml')\n",
    "\n",
    "\n",
    "# Cargar la imagen de Wally\n",
    "img = cv.imread('C:\\\\Users\\\\jorge\\\\OneDrive\\\\Escritorio\\\\IA1\\\\InteligenciaArtificial\\\\classifier\\\\wally16.png')\n",
    "\n",
    "# Convertir la imagen a escala de grises\n",
    "gray = cv.cvtColor(img, cv.COLOR_BGR2GRAY)\n",
    "\n",
    "# Detectar rostros en la imagen\n",
    "#rostros = rostro.detectMultiScale(gray, 1.1, 40)\n",
    "rostros = face_cascade.detectMultiScale(gray, scaleFactor=1.01, minNeighbors=200, minSize=(40,40))\n",
    "\n",
    "# Procesar cada rostro detectado\n",
    "for (x, y, w, h) in rostros:\n",
    "    # Dibujar un rectángulo verde alrededor del rostro detectado\n",
    "    img = cv.rectangle(img, (x, y), (x + w, y + h), (0, 255, 0), 2)\n",
    "\n",
    "# Mostrar la imagen con los rostros detectados y los rectángulos\n",
    "cv.imshow('Wally', img)\n",
    "cv.waitKey(0)\n",
    "cv.destroyAllWindows()"
   ]
  },
  {
   "cell_type": "code",
   "execution_count": null,
   "id": "d3a19cb5-4876-4594-ab62-548d55e33e56",
   "metadata": {},
   "outputs": [],
   "source": []
  }
 ],
 "metadata": {
  "kernelspec": {
   "display_name": "Python 3 (ipykernel)",
   "language": "python",
   "name": "python3"
  },
  "language_info": {
   "codemirror_mode": {
    "name": "ipython",
    "version": 3
   },
   "file_extension": ".py",
   "mimetype": "text/x-python",
   "name": "python",
   "nbconvert_exporter": "python",
   "pygments_lexer": "ipython3",
   "version": "3.11.5"
  }
 },
 "nbformat": 4,
 "nbformat_minor": 5
}
