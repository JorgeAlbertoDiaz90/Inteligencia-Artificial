{
 "cells": [
  {
   "cell_type": "code",
   "execution_count": 125,
   "id": "0d50a09e-0f9a-4d06-9336-2905d187da13",
   "metadata": {},
   "outputs": [],
   "source": [
    "import numpy as np\n",
    "import cv2 as cv\n",
    "\n",
    "# Cargar el clasificador entrenado\n",
    "rostro = cv.CascadeClassifier('C:\\\\Users\\edgar\\\\classifier\\\\cascade.xml')\n",
    "\n",
    "# Cargar la imagen de Wally\n",
    "img = cv.imread('C:\\\\Users\\\\edgar\\\\classifier\\wallyprueba.jpeg')\n",
    "\n",
    "# Convertir la imagen a escala de grises\n",
    "gray = cv.cvtColor(img, cv.COLOR_BGR2GRAY)\n",
    "\n",
    "# Detectar rostros en la imagen\n",
    "rostros = rostro.detectMultiScale(gray, 1.1, 40)\n",
    "\n",
    "# Procesar cada rostro detectado\n",
    "for (x, y, w, h) in rostros:\n",
    "    # Dibujar un rectángulo verde alrededor del rostro detectado\n",
    "    img = cv.rectangle(img, (x, y), (x + w, y + h), (0, 255, 0), 2)\n",
    "\n",
    "# Mostrar la imagen con los rostros detectados y los rectángulos\n",
    "cv.imshow('Wally', img)\n",
    "cv.waitKey(0)\n",
    "cv.destroyAllWindows()"
   ]
  },
  {
   "cell_type": "markdown",
   "id": "0b7c63bb-22d6-4517-a55a-7e4f0a3f50f6",
   "metadata": {},
   "source": [
    "#### "
   ]
  },
  {
   "cell_type": "code",
   "execution_count": null,
   "id": "24938d37-270a-44da-a893-cc894ba1e713",
   "metadata": {},
   "outputs": [],
   "source": []
  },
  {
   "cell_type": "code",
   "execution_count": null,
   "id": "7695c8cd-9d8c-4994-aa75-13584495bac8",
   "metadata": {},
   "outputs": [],
   "source": []
  }
 ],
 "metadata": {
  "kernelspec": {
   "display_name": "Python 3 (ipykernel)",
   "language": "python",
   "name": "python3"
  },
  "language_info": {
   "codemirror_mode": {
    "name": "ipython",
    "version": 3
   },
   "file_extension": ".py",
   "mimetype": "text/x-python",
   "name": "python",
   "nbconvert_exporter": "python",
   "pygments_lexer": "ipython3",
   "version": "3.11.8"
  }
 },
 "nbformat": 4,
 "nbformat_minor": 5
}
